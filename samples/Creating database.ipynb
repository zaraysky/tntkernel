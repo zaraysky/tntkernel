{
 "cells": [
  {
   "cell_type": "markdown",
   "metadata": {},
   "source": [
    "## Создание базы данных\n",
    "Подключившись к консоли, давайте создадим простую тестовую базу данных.\n",
    "\n",
    "Сначала создайте первый [спейс](https://www.tarantool.io/ru/doc/2.1/book/box/data_model/#index-box-space) (с именем `tester`):"
   ]
  },
  {
   "cell_type": "code",
   "execution_count": 1,
   "metadata": {},
   "outputs": [
    {
     "name": "stdout",
     "output_type": "stream",
     "text": []
    }
   ],
   "source": [
    "s = box.schema.space.create('tester', {if_not_exists=true})"
   ]
  },
  {
   "cell_type": "markdown",
   "metadata": {},
   "source": [
    "Форматируйте созданный спейс, указав имена и типы полей:"
   ]
  },
  {
   "cell_type": "code",
   "execution_count": 3,
   "metadata": {},
   "outputs": [
    {
     "name": "stdout",
     "output_type": "stream",
     "text": []
    }
   ],
   "source": [
    "s:format {\n",
    "    {name = 'id', type = 'unsigned'},\n",
    "    {name = 'band_name', type = 'string'},\n",
    "    {name = 'year', type = 'unsigned'}\n",
    "}"
   ]
  },
  {
   "cell_type": "markdown",
   "metadata": {},
   "source": [
    "Создайте первый [индекс](https://www.tarantool.io/ru/doc/2.1/book/box/data_model/#index-box-index) (с именем „primary’):"
   ]
  },
  {
   "cell_type": "code",
   "execution_count": 4,
   "metadata": {},
   "outputs": [
    {
     "name": "stdout",
     "output_type": "stream",
     "text": [
      "- unique: true\n",
      "  parts:\n",
      "  - type: unsigned\n",
      "    is_nullable: false\n",
      "    fieldno: 1\n",
      "  id: 0\n",
      "  space_id: 515\n",
      "  name: primary\n",
      "  type: HASH"
     ]
    }
   ],
   "source": [
    "s:create_index('primary', {\n",
    "    type = 'hash',\n",
    "    parts = {'id'}\n",
    "    }\n",
    ")"
   ]
  },
  {
   "cell_type": "markdown",
   "metadata": {},
   "source": [
    "Это первичный индекс по полю „id“ в каждом кортеже.\n",
    "Вставьте в созданный спейс три [кортежа](https://www.tarantool.io/ru/doc/2.1/book/box/data_model/#index-box-tuple) (наш термин для «записей»):"
   ]
  },
  {
   "cell_type": "code",
   "execution_count": 5,
   "metadata": {},
   "outputs": [
    {
     "name": "stdout",
     "output_type": "stream",
     "text": []
    }
   ],
   "source": [
    "s:insert{1, 'Roxette', 1986}\n",
    "s:insert{2, 'Scorpions', 2015}\n",
    "s:insert{3, 'Ace of Base', 1993}"
   ]
  },
  {
   "cell_type": "markdown",
   "metadata": {},
   "source": [
    "Для выборки кортежей по первичному индексу выполните команду `select`:"
   ]
  },
  {
   "cell_type": "code",
   "execution_count": 6,
   "metadata": {},
   "outputs": [
    {
     "name": "stdout",
     "output_type": "stream",
     "text": []
    }
   ],
   "source": [
    "result = s:select{1}"
   ]
  },
  {
   "cell_type": "code",
   "execution_count": 7,
   "metadata": {},
   "outputs": [
    {
     "name": "stdout",
     "output_type": "stream",
     "text": [
      "- - [1, 'Roxette', 1986]"
     ]
    }
   ],
   "source": [
    "result"
   ]
  },
  {
   "cell_type": "code",
   "execution_count": 8,
   "metadata": {},
   "outputs": [
    {
     "name": "stdout",
     "output_type": "stream",
     "text": []
    }
   ],
   "source": [
    "s:drop()"
   ]
  },
  {
   "cell_type": "markdown",
   "metadata": {},
   "source": [
    "Другой пример с комментами по тексту"
   ]
  },
  {
   "cell_type": "code",
   "execution_count": null,
   "metadata": {},
   "outputs": [],
   "source": []
  },
  {
   "cell_type": "code",
   "execution_count": 11,
   "metadata": {},
   "outputs": [
    {
     "name": "stdout",
     "output_type": "stream",
     "text": [
      "- error: Index 'primary' already exists"
     ]
    }
   ],
   "source": [
    "\n",
    "-- Создать спейс под названием tester.\n",
    "sp = box.schema.space.create('tester',{if_not_exists=true})\n",
    "-- Создать уникальный индекс 'primary'\n",
    "-- который не будет нужен для данного примера..\n",
    "\n",
    "sp:create_index('primary', {parts = {1, 'unsigned' }}, {if_not_exists=true})\n",
    "-- Создать неуникальный индекс 'secondary'\n",
    "-- по второму полю.\n",
    "sp:create_index('secondary', {\n",
    "          type = 'tree',\n",
    "          unique = false,\n",
    "          parts = {2, 'string'}\n",
    "          })\n",
    "-- Вставить три кортежа, значения в поле2 field[2]\n",
    "-- равны 'X', 'Y' и 'Z'.\n",
    "sp:insert{1, 'X', 'Row with field[2]=X'}\n",
    "sp:insert{2, 'Y', 'Row with field[2]=Y'}\n",
    "sp:insert{3, 'Z', 'Row with field[2]=Z'}\n",
    "-- Выбрать все кортежи, где вторичные ключи\n",
    "-- больше, чем 'X'."
   ]
  },
  {
   "cell_type": "code",
   "execution_count": 28,
   "metadata": {},
   "outputs": [
    {
     "name": "stdout",
     "output_type": "stream",
     "text": []
    }
   ],
   "source": [
    "sp = box.schema.space.create('tester', {if_not_exists=true})"
   ]
  },
  {
   "cell_type": "code",
   "execution_count": 29,
   "metadata": {},
   "outputs": [
    {
     "name": "stdout",
     "output_type": "stream",
     "text": [
      "- engine: memtx\n",
      "  before_replace: 'function: 0x0103a15858'\n",
      "  on_replace: 'function: 0x0103a15820'\n",
      "  field_count: 0\n",
      "  temporary: false\n",
      "  index:\n",
      "    0: &0\n",
      "      unique: true\n",
      "      parts:\n",
      "      - type: unsigned\n",
      "        is_nullable: false\n",
      "        fieldno: 1\n",
      "      id: 0\n",
      "      space_id: 513\n",
      "      name: primary\n",
      "      type: TREE\n",
      "    primary: *0\n",
      "  is_local: false\n",
      "  enabled: true\n",
      "  name: tester\n",
      "  id: 513"
     ]
    }
   ],
   "source": [
    "sp"
   ]
  },
  {
   "cell_type": "code",
   "execution_count": 32,
   "metadata": {},
   "outputs": [
    {
     "name": "stdout",
     "output_type": "stream",
     "text": [
      "- error: Space 'tester' already exists"
     ]
    }
   ],
   "source": [
    "sp = box.schema.space.create('tester',)\n",
    "sp:create_index('primary', {parts = {1, 'unsigned' }})\n",
    "sp:create_index('secondary', {\n",
    "          type = 'tree',\n",
    "          unique = false,\n",
    "          parts = {2, 'string'}\n",
    "          })\n",
    "sp:insert{1, 'X', 'Row with field[2]=X'}\n",
    "sp:insert{2, 'Y', 'Row with field[2]=Y'}\n",
    "sp:insert{3, 'Z', 'Row with field[2]=Z'}\n"
   ]
  },
  {
   "cell_type": "code",
   "execution_count": 23,
   "metadata": {},
   "outputs": [
    {
     "name": "stdout",
     "output_type": "stream",
     "text": [
      "- error: '[string \"result2 = sp.index.secondary:select({''X''}, { ...\"]:1: attempt\n",
      "    to index global ''sp'' (a nil value)'"
     ]
    }
   ],
   "source": [
    "result2 = sp.index.secondary:select({'X'}, {\n",
    "          iterator = 'GE',\n",
    "          limit = 1000\n",
    "          })"
   ]
  },
  {
   "cell_type": "code",
   "execution_count": 21,
   "metadata": {},
   "outputs": [
    {
     "name": "stdout",
     "output_type": "stream",
     "text": [
      "- null"
     ]
    }
   ],
   "source": [
    "result2"
   ]
  },
  {
   "cell_type": "code",
   "execution_count": null,
   "metadata": {},
   "outputs": [],
   "source": []
  },
  {
   "cell_type": "code",
   "execution_count": 9,
   "metadata": {},
   "outputs": [
    {
     "name": "stdout",
     "output_type": "stream",
     "text": [
      "OK"
     ]
    }
   ],
   "source": [
    "a = 12"
   ]
  },
  {
   "cell_type": "code",
   "execution_count": 10,
   "metadata": {},
   "outputs": [
    {
     "name": "stdout",
     "output_type": "stream",
     "text": [
      "Error: attempt to call a nil value"
     ]
    }
   ],
   "source": [
    "a"
   ]
  },
  {
   "cell_type": "code",
   "execution_count": 30,
   "metadata": {},
   "outputs": [
    {
     "name": "stdout",
     "output_type": "stream",
     "text": []
    }
   ],
   "source": [
    "function sq(x)\n",
    "return x ^ 2\n",
    "end"
   ]
  },
  {
   "cell_type": "code",
   "execution_count": 31,
   "metadata": {},
   "outputs": [
    {
     "name": "stdout",
     "output_type": "stream",
     "text": [
      "- 4"
     ]
    }
   ],
   "source": [
    "sq(2)"
   ]
  },
  {
   "cell_type": "code",
   "execution_count": null,
   "metadata": {},
   "outputs": [],
   "source": []
  }
 ],
 "metadata": {
  "kernelspec": {
   "display_name": "Tarantool",
   "language": "lua",
   "name": "tntkernel"
  },
  "language_info": {
   "codemirror_mode": "shell",
   "file_extension": ".lua",
   "mimetype": "text/x-lua",
   "name": "lua"
  }
 },
 "nbformat": 4,
 "nbformat_minor": 2
}
